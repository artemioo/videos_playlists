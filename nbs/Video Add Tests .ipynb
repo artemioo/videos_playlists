{
 "cells": [
  {
   "cell_type": "code",
   "execution_count": 1,
   "id": "79de4bba-b731-4ff9-9acb-307e686181d2",
   "metadata": {},
   "outputs": [
    {
     "name": "stdout",
     "output_type": "stream",
     "text": [
      "/home/excels/Документы/projects/fastapi/videos_playlists\n"
     ]
    }
   ],
   "source": [
    "cd .."
   ]
  },
  {
   "cell_type": "code",
   "execution_count": 2,
   "id": "1b6ceda0-b2ff-49ab-a7ac-b9ef802650dd",
   "metadata": {},
   "outputs": [],
   "source": [
    "from app import db\n",
    "from app.users.models import User\n",
    "from app.videos.models import Video\n",
    "from cassandra.cqlengine.management import sync_table"
   ]
  },
  {
   "cell_type": "code",
   "execution_count": 3,
   "id": "16b74d6b-c662-4dfa-b9f1-6eded6817b8b",
   "metadata": {},
   "outputs": [],
   "source": [
    "db.get_session()\n",
    "sync_table(Video)\n",
    "sync_table(User)"
   ]
  },
  {
   "cell_type": "code",
   "execution_count": 4,
   "id": "5cd6c8a5-09a7-4723-9687-a86074316a87",
   "metadata": {},
   "outputs": [
    {
     "data": {
      "text/plain": [
       "User(email=hello@teamcfe.com, user_id=074febb6-32a3-11ee-896f-9828a646968e)"
      ]
     },
     "execution_count": 4,
     "metadata": {},
     "output_type": "execute_result"
    }
   ],
   "source": [
    "abc = User.objects.get(email='hello@teamcfe.com')\n",
    "abc"
   ]
  },
  {
   "cell_type": "code",
   "execution_count": 8,
   "id": "405a4aaf-6cdd-465b-bcff-360d6d569034",
   "metadata": {},
   "outputs": [],
   "source": [
    "url = 'http://youtu.be/nNpvWBuTfrc'"
   ]
  },
  {
   "cell_type": "code",
   "execution_count": 9,
   "id": "9711554f-6c14-438d-ba83-749ba0c9c740",
   "metadata": {},
   "outputs": [],
   "source": [
    "obj = Video.add_video(url=url, user_id=abc.user_id)"
   ]
  },
  {
   "cell_type": "code",
   "execution_count": 10,
   "id": "5fb270dc-f419-4412-98f9-30bbe00fc119",
   "metadata": {},
   "outputs": [
    {
     "data": {
      "text/plain": [
       "Video(host_id=nNpvWBuTfrc, host_service=youtube)"
      ]
     },
     "execution_count": 10,
     "metadata": {},
     "output_type": "execute_result"
    }
   ],
   "source": [
    "obj"
   ]
  },
  {
   "cell_type": "code",
   "execution_count": null,
   "id": "4128435b-14ac-4340-b979-865a64c3b35b",
   "metadata": {},
   "outputs": [],
   "source": []
  }
 ],
 "metadata": {
  "kernelspec": {
   "display_name": "Python 3 (ipykernel)",
   "language": "python",
   "name": "python3"
  },
  "language_info": {
   "codemirror_mode": {
    "name": "ipython",
    "version": 3
   },
   "file_extension": ".py",
   "mimetype": "text/x-python",
   "name": "python",
   "nbconvert_exporter": "python",
   "pygments_lexer": "ipython3",
   "version": "3.9.9"
  }
 },
 "nbformat": 4,
 "nbformat_minor": 5
}
