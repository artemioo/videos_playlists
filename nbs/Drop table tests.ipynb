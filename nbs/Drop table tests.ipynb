{
 "cells": [
  {
   "cell_type": "code",
   "execution_count": 2,
   "id": "79de4bba-b731-4ff9-9acb-307e686181d2",
   "metadata": {},
   "outputs": [
    {
     "name": "stdout",
     "output_type": "stream",
     "text": [
      "/home/excels/Документы/projects/fastapi/videos_playlists\n"
     ]
    }
   ],
   "source": [
    "cd .."
   ]
  },
  {
   "cell_type": "code",
   "execution_count": 6,
   "id": "1b6ceda0-b2ff-49ab-a7ac-b9ef802650dd",
   "metadata": {},
   "outputs": [],
   "source": [
    "from app import db, config\n",
    "# from app.users.models import User"
   ]
  },
  {
   "cell_type": "code",
   "execution_count": 4,
   "id": "16b74d6b-c662-4dfa-b9f1-6eded6817b8b",
   "metadata": {},
   "outputs": [
    {
     "data": {
      "text/plain": [
       "<cassandra.cluster.Session at 0x7f1dc05e2880>"
      ]
     },
     "execution_count": 4,
     "metadata": {},
     "output_type": "execute_result"
    }
   ],
   "source": [
    "session = db.get_session()\n",
    "session"
   ]
  },
  {
   "cell_type": "code",
   "execution_count": 7,
   "id": "4b698d16-c874-43df-8e31-749c8d5261cd",
   "metadata": {},
   "outputs": [],
   "source": [
    "settings = config.get_settings()"
   ]
  },
  {
   "cell_type": "code",
   "execution_count": 8,
   "id": "c13d071c-0e3b-45b2-8ded-dad6a51a9a2b",
   "metadata": {},
   "outputs": [],
   "source": [
    "keyspace = settings.ASTRADB_KEYSPACE"
   ]
  },
  {
   "cell_type": "code",
   "execution_count": 10,
   "id": "17d99a0b-0744-4b0a-a517-7376f7e4295b",
   "metadata": {},
   "outputs": [],
   "source": [
    "model_name = 'watch_event'"
   ]
  },
  {
   "cell_type": "code",
   "execution_count": 11,
   "id": "6d510efa-51be-4c0b-bba7-e511cb2f9881",
   "metadata": {},
   "outputs": [],
   "source": [
    "cmd = f'DROP TABLE IF EXISTS {keyspace}.{model_name}'"
   ]
  },
  {
   "cell_type": "code",
   "execution_count": 13,
   "id": "d78c9c4c-5bb6-4d23-9bce-702382f08ed3",
   "metadata": {},
   "outputs": [
    {
     "ename": "NameError",
     "evalue": "name 'r' is not defined",
     "output_type": "error",
     "traceback": [
      "\u001b[0;31m---------------------------------------------------------------------------\u001b[0m",
      "\u001b[0;31mNameError\u001b[0m                                 Traceback (most recent call last)",
      "Cell \u001b[0;32mIn[13], line 1\u001b[0m\n\u001b[0;32m----> 1\u001b[0m \u001b[38;5;28mdir\u001b[39m(\u001b[43mr\u001b[49m)\n",
      "\u001b[0;31mNameError\u001b[0m: name 'r' is not defined"
     ]
    }
   ],
   "source": [
    "res = session.execute(cmd)"
   ]
  },
  {
   "cell_type": "code",
   "execution_count": null,
   "id": "73614fb9-ba37-4f5f-a485-0b6db8e74917",
   "metadata": {},
   "outputs": [],
   "source": []
  }
 ],
 "metadata": {
  "kernelspec": {
   "display_name": "Python 3 (ipykernel)",
   "language": "python",
   "name": "python3"
  },
  "language_info": {
   "codemirror_mode": {
    "name": "ipython",
    "version": 3
   },
   "file_extension": ".py",
   "mimetype": "text/x-python",
   "name": "python",
   "nbconvert_exporter": "python",
   "pygments_lexer": "ipython3",
   "version": "3.9.9"
  }
 },
 "nbformat": 4,
 "nbformat_minor": 5
}
