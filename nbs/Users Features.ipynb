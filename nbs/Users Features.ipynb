{
 "cells": [
  {
   "cell_type": "code",
   "execution_count": 20,
   "id": "79de4bba-b731-4ff9-9acb-307e686181d2",
   "metadata": {},
   "outputs": [
    {
     "name": "stdout",
     "output_type": "stream",
     "text": [
      "/home/excels/Документы/projects/fastapi/videos_playlists\n"
     ]
    }
   ],
   "source": []
  },
  {
   "cell_type": "code",
   "execution_count": 21,
   "id": "1b6ceda0-b2ff-49ab-a7ac-b9ef802650dd",
   "metadata": {},
   "outputs": [],
   "source": [
    "from app import db\n",
    "from app.users.models import User\n",
    "from cassandra.cqlengine.management import sync_table"
   ]
  },
  {
   "cell_type": "code",
   "execution_count": 22,
   "id": "16b74d6b-c662-4dfa-b9f1-6eded6817b8b",
   "metadata": {},
   "outputs": [],
   "source": [
    "db.get_session()\n",
    "sync_table(User)"
   ]
  },
  {
   "cell_type": "code",
   "execution_count": null,
   "id": "4b698d16-c874-43df-8e31-749c8d5261cd",
   "metadata": {},
   "outputs": [],
   "source": [
    "# User.create_user(\"hello@teamcfe.com\", password='abc123')"
   ]
  },
  {
   "cell_type": "code",
   "execution_count": 25,
   "id": "b4c86806-3f95-4082-bc37-8826687a17bb",
   "metadata": {},
   "outputs": [
    {
     "ename": "NameError",
     "evalue": "name 'user_a' is not defined",
     "output_type": "error",
     "traceback": [
      "\u001b[0;31m---------------------------------------------------------------------------\u001b[0m",
      "\u001b[0;31mNameError\u001b[0m                                 Traceback (most recent call last)",
      "Cell \u001b[0;32mIn[25], line 1\u001b[0m\n\u001b[0;32m----> 1\u001b[0m \u001b[43muser_a\u001b[49m\u001b[38;5;241m.\u001b[39mpassword\n",
      "\u001b[0;31mNameError\u001b[0m: name 'user_a' is not defined"
     ]
    }
   ],
   "source": [
    "user_a.password"
   ]
  },
  {
   "cell_type": "code",
   "execution_count": 3,
   "id": "27a1e079-c2de-42e2-92ef-1552eef688cb",
   "metadata": {},
   "outputs": [
    {
     "ename": "NameError",
     "evalue": "name 'user_a' is not defined",
     "output_type": "error",
     "traceback": [
      "\u001b[0;31m---------------------------------------------------------------------------\u001b[0m",
      "\u001b[0;31mNameError\u001b[0m                                 Traceback (most recent call last)",
      "Cell \u001b[0;32mIn[3], line 1\u001b[0m\n\u001b[0;32m----> 1\u001b[0m \u001b[43muser_a\u001b[49m\u001b[38;5;241m.\u001b[39mverify_password(\u001b[38;5;124m'\u001b[39m\u001b[38;5;124mabc123d\u001b[39m\u001b[38;5;124m'\u001b[39m)\n",
      "\u001b[0;31mNameError\u001b[0m: name 'user_a' is not defined"
     ]
    }
   ],
   "source": [
    "user_a.verify_password('abc123d')"
   ]
  },
  {
   "cell_type": "code",
   "execution_count": null,
   "id": "6edb46ef-e6c4-44bc-b687-782aa7cb5ae7",
   "metadata": {},
   "outputs": [],
   "source": []
  }
 ],
 "metadata": {
  "kernelspec": {
   "display_name": "Python 3 (ipykernel)",
   "language": "python",
   "name": "python3"
  },
  "language_info": {
   "codemirror_mode": {
    "name": "ipython",
    "version": 3
   },
   "file_extension": ".py",
   "mimetype": "text/x-python",
   "name": "python",
   "nbconvert_exporter": "python",
   "pygments_lexer": "ipython3",
   "version": "3.9.9"
  }
 },
 "nbformat": 4,
 "nbformat_minor": 5
}
